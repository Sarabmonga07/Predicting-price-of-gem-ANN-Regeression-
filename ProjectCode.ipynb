{
 "cells": [
  {
   "cell_type": "markdown",
   "metadata": {},
   "source": [
    "# Predicting the price of rare gem using Artificial Neural Network by Regression"
   ]
  },
  {
   "cell_type": "markdown",
   "metadata": {},
   "source": [
    "## The Data\n",
    "\n",
    "This data represents measurements of some rare gem stones, with 2 measurement features and a sale price [This data is fake] Our final goal would be to try to predict the sale price of a new gem stone we just mined from the ground, in order to try to set a fair price in the market.\n",
    "\n",
    "## Load the Data"
   ]
  },
  {
   "cell_type": "code",
   "execution_count": 62,
   "metadata": {},
   "outputs": [],
   "source": [
    "import pandas as pd"
   ]
  },
  {
   "cell_type": "code",
   "execution_count": 65,
   "metadata": {},
   "outputs": [],
   "source": [
    "df = pd.read_csv('fake_reg.csv')"
   ]
  },
  {
   "cell_type": "code",
   "execution_count": 66,
   "metadata": {},
   "outputs": [
    {
     "data": {
      "text/html": [
       "<div>\n",
       "<style scoped>\n",
       "    .dataframe tbody tr th:only-of-type {\n",
       "        vertical-align: middle;\n",
       "    }\n",
       "\n",
       "    .dataframe tbody tr th {\n",
       "        vertical-align: top;\n",
       "    }\n",
       "\n",
       "    .dataframe thead th {\n",
       "        text-align: right;\n",
       "    }\n",
       "</style>\n",
       "<table border=\"1\" class=\"dataframe\">\n",
       "  <thead>\n",
       "    <tr style=\"text-align: right;\">\n",
       "      <th></th>\n",
       "      <th>price</th>\n",
       "      <th>feature1</th>\n",
       "      <th>feature2</th>\n",
       "    </tr>\n",
       "  </thead>\n",
       "  <tbody>\n",
       "    <tr>\n",
       "      <th>0</th>\n",
       "      <td>461.527929</td>\n",
       "      <td>999.787558</td>\n",
       "      <td>999.766096</td>\n",
       "    </tr>\n",
       "    <tr>\n",
       "      <th>1</th>\n",
       "      <td>548.130011</td>\n",
       "      <td>998.861615</td>\n",
       "      <td>1001.042403</td>\n",
       "    </tr>\n",
       "    <tr>\n",
       "      <th>2</th>\n",
       "      <td>410.297162</td>\n",
       "      <td>1000.070267</td>\n",
       "      <td>998.844015</td>\n",
       "    </tr>\n",
       "    <tr>\n",
       "      <th>3</th>\n",
       "      <td>540.382220</td>\n",
       "      <td>999.952251</td>\n",
       "      <td>1000.440940</td>\n",
       "    </tr>\n",
       "    <tr>\n",
       "      <th>4</th>\n",
       "      <td>546.024553</td>\n",
       "      <td>1000.446011</td>\n",
       "      <td>1000.338531</td>\n",
       "    </tr>\n",
       "  </tbody>\n",
       "</table>\n",
       "</div>"
      ],
      "text/plain": [
       "        price     feature1     feature2\n",
       "0  461.527929   999.787558   999.766096\n",
       "1  548.130011   998.861615  1001.042403\n",
       "2  410.297162  1000.070267   998.844015\n",
       "3  540.382220   999.952251  1000.440940\n",
       "4  546.024553  1000.446011  1000.338531"
      ]
     },
     "execution_count": 66,
     "metadata": {},
     "output_type": "execute_result"
    }
   ],
   "source": [
    "df.head()"
   ]
  },
  {
   "cell_type": "markdown",
   "metadata": {},
   "source": [
    "## Explore the data\n",
    "\n",
    "Let's take a quick look, we should see strong correlation between the features and the \"price\" of this made up product."
   ]
  },
  {
   "cell_type": "code",
   "execution_count": 67,
   "metadata": {},
   "outputs": [],
   "source": [
    "import seaborn as sns\n",
    "import matplotlib.pyplot as plt"
   ]
  },
  {
   "cell_type": "code",
   "execution_count": 68,
   "metadata": {},
   "outputs": [
    {
     "data": {
      "text/html": [
       "<div>\n",
       "<style scoped>\n",
       "    .dataframe tbody tr th:only-of-type {\n",
       "        vertical-align: middle;\n",
       "    }\n",
       "\n",
       "    .dataframe tbody tr th {\n",
       "        vertical-align: top;\n",
       "    }\n",
       "\n",
       "    .dataframe thead th {\n",
       "        text-align: right;\n",
       "    }\n",
       "</style>\n",
       "<table border=\"1\" class=\"dataframe\">\n",
       "  <thead>\n",
       "    <tr style=\"text-align: right;\">\n",
       "      <th></th>\n",
       "      <th>price</th>\n",
       "      <th>feature1</th>\n",
       "      <th>feature2</th>\n",
       "    </tr>\n",
       "  </thead>\n",
       "  <tbody>\n",
       "    <tr>\n",
       "      <th>0</th>\n",
       "      <td>461.527929</td>\n",
       "      <td>999.787558</td>\n",
       "      <td>999.766096</td>\n",
       "    </tr>\n",
       "    <tr>\n",
       "      <th>1</th>\n",
       "      <td>548.130011</td>\n",
       "      <td>998.861615</td>\n",
       "      <td>1001.042403</td>\n",
       "    </tr>\n",
       "    <tr>\n",
       "      <th>2</th>\n",
       "      <td>410.297162</td>\n",
       "      <td>1000.070267</td>\n",
       "      <td>998.844015</td>\n",
       "    </tr>\n",
       "    <tr>\n",
       "      <th>3</th>\n",
       "      <td>540.382220</td>\n",
       "      <td>999.952251</td>\n",
       "      <td>1000.440940</td>\n",
       "    </tr>\n",
       "    <tr>\n",
       "      <th>4</th>\n",
       "      <td>546.024553</td>\n",
       "      <td>1000.446011</td>\n",
       "      <td>1000.338531</td>\n",
       "    </tr>\n",
       "    <tr>\n",
       "      <th>...</th>\n",
       "      <td>...</td>\n",
       "      <td>...</td>\n",
       "      <td>...</td>\n",
       "    </tr>\n",
       "    <tr>\n",
       "      <th>995</th>\n",
       "      <td>476.526078</td>\n",
       "      <td>1000.018988</td>\n",
       "      <td>999.672732</td>\n",
       "    </tr>\n",
       "    <tr>\n",
       "      <th>996</th>\n",
       "      <td>457.313186</td>\n",
       "      <td>998.855379</td>\n",
       "      <td>1000.020026</td>\n",
       "    </tr>\n",
       "    <tr>\n",
       "      <th>997</th>\n",
       "      <td>456.720992</td>\n",
       "      <td>1001.451646</td>\n",
       "      <td>998.847606</td>\n",
       "    </tr>\n",
       "    <tr>\n",
       "      <th>998</th>\n",
       "      <td>403.315576</td>\n",
       "      <td>1000.771023</td>\n",
       "      <td>998.562851</td>\n",
       "    </tr>\n",
       "    <tr>\n",
       "      <th>999</th>\n",
       "      <td>599.367093</td>\n",
       "      <td>999.232244</td>\n",
       "      <td>1001.451407</td>\n",
       "    </tr>\n",
       "  </tbody>\n",
       "</table>\n",
       "<p>1000 rows × 3 columns</p>\n",
       "</div>"
      ],
      "text/plain": [
       "          price     feature1     feature2\n",
       "0    461.527929   999.787558   999.766096\n",
       "1    548.130011   998.861615  1001.042403\n",
       "2    410.297162  1000.070267   998.844015\n",
       "3    540.382220   999.952251  1000.440940\n",
       "4    546.024553  1000.446011  1000.338531\n",
       "..          ...          ...          ...\n",
       "995  476.526078  1000.018988   999.672732\n",
       "996  457.313186   998.855379  1000.020026\n",
       "997  456.720992  1001.451646   998.847606\n",
       "998  403.315576  1000.771023   998.562851\n",
       "999  599.367093   999.232244  1001.451407\n",
       "\n",
       "[1000 rows x 3 columns]"
      ]
     },
     "execution_count": 68,
     "metadata": {},
     "output_type": "execute_result"
    }
   ],
   "source": [
    "df"
   ]
  },
  {
   "cell_type": "markdown",
   "metadata": {},
   "source": [
    "### Distribution plots of the features and price"
   ]
  },
  {
   "cell_type": "code",
   "execution_count": 69,
   "metadata": {},
   "outputs": [
    {
     "name": "stderr",
     "output_type": "stream",
     "text": [
      "/anaconda3/lib/python3.7/site-packages/scipy/stats/stats.py:1713: FutureWarning: Using a non-tuple sequence for multidimensional indexing is deprecated; use `arr[tuple(seq)]` instead of `arr[seq]`. In the future this will be interpreted as an array index, `arr[np.array(seq)]`, which will result either in an error or a different result.\n",
      "  return np.add.reduce(sorted[indexer] * weights, axis=axis) / sumval\n"
     ]
    },
    {
     "data": {
      "text/plain": [
       "<matplotlib.axes._subplots.AxesSubplot at 0x1a546b8198>"
      ]
     },
     "execution_count": 69,
     "metadata": {},
     "output_type": "execute_result"
    },
    {
     "data": {
      "image/png": "[encoded data removed]",
      "text/plain": [
       "<Figure size 432x288 with 1 Axes>"
      ]
     },
     "metadata": {
      "needs_background": "light"
     },
     "output_type": "display_data"
    }
   ],
   "source": [
    "sns.distplot(df['price'],bins=30)"
   ]
  },
  {
   "cell_type": "code",
   "execution_count": 70,
   "metadata": {},
   "outputs": [
    {
     "data": {
      "text/plain": [
       "<matplotlib.axes._subplots.AxesSubplot at 0x1a547245f8>"
      ]
     },
     "execution_count": 70,
     "metadata": {},
     "output_type": "execute_result"
    },
    {
     "data": {
      "image/png": "[encoded data removed]",
      "text/plain": [
       "<Figure size 432x288 with 1 Axes>"
      ]
     },
     "metadata": {
      "needs_background": "light"
     },
     "output_type": "display_data"
    }
   ],
   "source": [
    "sns.distplot(df['feature1'],bins=30)"
   ]
  },
  {
   "cell_type": "code",
   "execution_count": 71,
   "metadata": {},
   "outputs": [
    {
     "data": {
      "text/plain": [
       "<matplotlib.axes._subplots.AxesSubplot at 0x1a5481c588>"
      ]
     },
     "execution_count": 71,
     "metadata": {},
     "output_type": "execute_result"
    },
    {
     "data": {
      "image/png": "[encoded data removed]",
      "text/plain": [
       "<Figure size 432x288 with 1 Axes>"
      ]
     },
     "metadata": {
      "needs_background": "light"
     },
     "output_type": "display_data"
    }
   ],
   "source": [
    "sns.distplot(df['feature2'],bins=30)"
   ]
  },
  {
   "cell_type": "markdown",
   "metadata": {},
   "source": [
    "### Scatter Plot of all features and price"
   ]
  },
  {
   "cell_type": "code",
   "execution_count": 72,
   "metadata": {},
   "outputs": [
    {
     "data": {
      "text/plain": [
       "<seaborn.axisgrid.PairGrid at 0x1a54724240>"
      ]
     },
     "execution_count": 72,
     "metadata": {},
     "output_type": "execute_result"
    },
    {
     "data": {
      "image/png": "[encoded data removed]",
      "text/plain": [
       "<Figure size 540x540 with 12 Axes>"
      ]
     },
     "metadata": {
      "needs_background": "light"
     },
     "output_type": "display_data"
    }
   ],
   "source": [
    "sns.pairplot(df)"
   ]
  },
  {
   "cell_type": "markdown",
   "metadata": {},
   "source": [
    "### Regression on price and feature 2"
   ]
  },
  {
   "cell_type": "code",
   "execution_count": 73,
   "metadata": {},
   "outputs": [
    {
     "name": "stderr",
     "output_type": "stream",
     "text": [
      "/anaconda3/lib/python3.7/site-packages/scipy/stats/stats.py:1713: FutureWarning: Using a non-tuple sequence for multidimensional indexing is deprecated; use `arr[tuple(seq)]` instead of `arr[seq]`. In the future this will be interpreted as an array index, `arr[np.array(seq)]`, which will result either in an error or a different result.\n",
      "  return np.add.reduce(sorted[indexer] * weights, axis=axis) / sumval\n"
     ]
    },
    {
     "data": {
      "text/plain": [
       "<seaborn.axisgrid.FacetGrid at 0x1a54f3cef0>"
      ]
     },
     "execution_count": 73,
     "metadata": {},
     "output_type": "execute_result"
    },
    {
     "data": {
      "image/png": "[encoded data removed]",
      "text/plain": [
       "<Figure size 360x360 with 1 Axes>"
      ]
     },
     "metadata": {
      "needs_background": "light"
     },
     "output_type": "display_data"
    }
   ],
   "source": [
    "sns.lmplot(x='price',y='feature2',data=df)"
   ]
  },
  {
   "cell_type": "code",
   "execution_count": 74,
   "metadata": {},
   "outputs": [],
   "source": [
    "# We can see clear correlation between the price of the gem and the feature number 2."
   ]
  },
  {
   "cell_type": "markdown",
   "metadata": {},
   "source": [
    "## Splitting the data into training and testing for ANN"
   ]
  },
  {
   "cell_type": "code",
   "execution_count": 75,
   "metadata": {},
   "outputs": [],
   "source": [
    "from sklearn.model_selection import train_test_split"
   ]
  },
  {
   "cell_type": "code",
   "execution_count": 76,
   "metadata": {},
   "outputs": [],
   "source": [
    "# Convert Pandas to Numpy for Keras\n",
    "\n",
    "# Features\n",
    "X = df[['feature1','feature2']].values #Independent variables\n",
    "\n",
    "# Label\n",
    "y = df['price'].values #Dependent variable (Target Variable)\n",
    "\n",
    "# Split\n",
    "X_train, X_test, y_train, y_test = train_test_split(X,y,test_size=0.3,random_state=42)"
   ]
  },
  {
   "cell_type": "code",
   "execution_count": 77,
   "metadata": {},
   "outputs": [
    {
     "data": {
      "text/plain": [
       "(700, 2)"
      ]
     },
     "execution_count": 77,
     "metadata": {},
     "output_type": "execute_result"
    }
   ],
   "source": [
    "X_train.shape"
   ]
  },
  {
   "cell_type": "code",
   "execution_count": 78,
   "metadata": {},
   "outputs": [
    {
     "data": {
      "text/plain": [
       "(300, 2)"
      ]
     },
     "execution_count": 78,
     "metadata": {},
     "output_type": "execute_result"
    }
   ],
   "source": [
    "X_test.shape"
   ]
  },
  {
   "cell_type": "code",
   "execution_count": 79,
   "metadata": {},
   "outputs": [
    {
     "data": {
      "text/plain": [
       "(700,)"
      ]
     },
     "execution_count": 79,
     "metadata": {},
     "output_type": "execute_result"
    }
   ],
   "source": [
    "y_train.shape"
   ]
  },
  {
   "cell_type": "code",
   "execution_count": 80,
   "metadata": {},
   "outputs": [
    {
     "data": {
      "text/plain": [
       "(300,)"
      ]
     },
     "execution_count": 80,
     "metadata": {},
     "output_type": "execute_result"
    }
   ],
   "source": [
    "y_test.shape"
   ]
  },
  {
   "cell_type": "markdown",
   "metadata": {},
   "source": [
    "## Normalizing/Scaling the Data\n",
    "\n",
    "We scale the features data before we can train the model with this Data"
   ]
  },
  {
   "cell_type": "code",
   "execution_count": 81,
   "metadata": {},
   "outputs": [],
   "source": [
    "from sklearn.preprocessing import MinMaxScaler"
   ]
  },
  {
   "cell_type": "code",
   "execution_count": 82,
   "metadata": {},
   "outputs": [],
   "source": [
    "scaler = MinMaxScaler()"
   ]
  },
  {
   "cell_type": "code",
   "execution_count": 83,
   "metadata": {},
   "outputs": [],
   "source": [
    "# Notice to prevent data leakage from the test set, we only fit our scaler to the training set"
   ]
  },
  {
   "cell_type": "code",
   "execution_count": 84,
   "metadata": {},
   "outputs": [
    {
     "data": {
      "text/plain": [
       "MinMaxScaler(copy=True, feature_range=(0, 1))"
      ]
     },
     "execution_count": 84,
     "metadata": {},
     "output_type": "execute_result"
    }
   ],
   "source": [
    "scaler.fit(X_train)"
   ]
  },
  {
   "cell_type": "code",
   "execution_count": 85,
   "metadata": {},
   "outputs": [],
   "source": [
    "X_train = scaler.transform(X_train)\n",
    "X_test = scaler.transform(X_test)"
   ]
  },
  {
   "cell_type": "markdown",
   "metadata": {},
   "source": [
    "## Creating the Model"
   ]
  },
  {
   "cell_type": "code",
   "execution_count": 86,
   "metadata": {},
   "outputs": [],
   "source": [
    "import tensorflow as tf"
   ]
  },
  {
   "cell_type": "code",
   "execution_count": 87,
   "metadata": {},
   "outputs": [],
   "source": [
    "from tensorflow.keras.models import Sequential"
   ]
  },
  {
   "cell_type": "code",
   "execution_count": 88,
   "metadata": {},
   "outputs": [],
   "source": [
    "from tensorflow.keras.models import Sequential\n",
    "from tensorflow.keras.layers import Dense, Activation"
   ]
  },
  {
   "cell_type": "markdown",
   "metadata": {},
   "source": [
    "Let's go ahead and build a simple model and then compile it by defining our solver"
   ]
  },
  {
   "cell_type": "code",
   "execution_count": 128,
   "metadata": {},
   "outputs": [],
   "source": [
    "model = Sequential()\n",
    "\n",
    "model.add(Dense(4,activation='relu'))\n",
    "model.add(Dense(4,activation='relu'))\n",
    "model.add(Dense(4,activation='relu'))\n",
    "\n",
    "# Final output node for prediction\n",
    "model.add(Dense(1))\n",
    "\n",
    "model.compile(optimizer='rmsprop',loss='mse')"
   ]
  },
  {
   "cell_type": "markdown",
   "metadata": {},
   "source": [
    "## Training the model"
   ]
  },
  {
   "cell_type": "code",
   "execution_count": 129,
   "metadata": {},
   "outputs": [
    {
     "name": "stdout",
     "output_type": "stream",
     "text": [
      "Epoch 1/250\n",
      "22/22 [==============================] - 1s 1ms/step - loss: 258987.2908\n",
      "Epoch 2/250\n",
      "22/22 [==============================] - 0s 2ms/step - loss: 253994.0000\n",
      "Epoch 3/250\n",
      "22/22 [==============================] - 0s 2ms/step - loss: 252028.9232\n",
      "Epoch 4/250\n",
      "22/22 [==============================] - 0s 1ms/step - loss: 260853.6807\n",
      "Epoch 5/250\n",
      "22/22 [==============================] - 0s 2ms/step - loss: 260340.2106\n",
      "Epoch 6/250\n",
      "22/22 [==============================] - 0s 2ms/step - loss: 251450.7221\n",
      "Epoch 7/250\n",
      "22/22 [==============================] - 0s 2ms/step - loss: 260375.0387\n",
      "Epoch 8/250\n",
      "22/22 [==============================] - 0s 2ms/step - loss: 254397.4592\n",
      "Epoch 9/250\n",
      "22/22 [==============================] - 0s 2ms/step - loss: 254943.1800\n",
      "Epoch 10/250\n",
      "22/22 [==============================] - 0s 1ms/step - loss: 249164.3213\n",
      "Epoch 11/250\n",
      "22/22 [==============================] - 0s 2ms/step - loss: 252108.1060\n",
      "Epoch 12/250\n",
      "22/22 [==============================] - 0s 2ms/step - loss: 248410.4029\n",
      "Epoch 13/250\n",
      "22/22 [==============================] - 0s 2ms/step - loss: 249697.2398\n",
      "Epoch 14/250\n",
      "22/22 [==============================] - 0s 2ms/step - loss: 251120.1726\n",
      "Epoch 15/250\n",
      "22/22 [==============================] - 0s 2ms/step - loss: 248637.6970\n",
      "Epoch 16/250\n",
      "22/22 [==============================] - 0s 1ms/step - loss: 248723.8091\n",
      "Epoch 17/250\n",
      "22/22 [==============================] - 0s 2ms/step - loss: 247998.2004\n",
      "Epoch 18/250\n",
      "22/22 [==============================] - 0s 1ms/step - loss: 245278.5679\n",
      "Epoch 19/250\n",
      "22/22 [==============================] - 0s 1ms/step - loss: 247030.2092\n",
      "Epoch 20/250\n",
      "22/22 [==============================] - 0s 1ms/step - loss: 242870.3193\n",
      "Epoch 21/250\n",
      "22/22 [==============================] - 0s 1ms/step - loss: 239112.3913\n",
      "Epoch 22/250\n",
      "22/22 [==============================] - 0s 1ms/step - loss: 235649.8288\n",
      "Epoch 23/250\n",
      "22/22 [==============================] - 0s 1ms/step - loss: 232120.1576\n",
      "Epoch 24/250\n",
      "22/22 [==============================] - 0s 2ms/step - loss: 234511.9375\n",
      "Epoch 25/250\n",
      "22/22 [==============================] - 0s 1ms/step - loss: 232653.4307\n",
      "Epoch 26/250\n",
      "22/22 [==============================] - 0s 1ms/step - loss: 228667.7446\n",
      "Epoch 27/250\n",
      "22/22 [==============================] - 0s 1ms/step - loss: 225460.2221\n",
      "Epoch 28/250\n",
      "22/22 [==============================] - 0s 1ms/step - loss: 214012.0768\n",
      "Epoch 29/250\n",
      "22/22 [==============================] - 0s 1ms/step - loss: 218603.5217\n",
      "Epoch 30/250\n",
      "22/22 [==============================] - 0s 1ms/step - loss: 215703.7846\n",
      "Epoch 31/250\n",
      "22/22 [==============================] - 0s 1ms/step - loss: 204340.8417\n",
      "Epoch 32/250\n",
      "22/22 [==============================] - 0s 1ms/step - loss: 205486.0897\n",
      "Epoch 33/250\n",
      "22/22 [==============================] - 0s 1ms/step - loss: 197201.6909\n",
      "Epoch 34/250\n",
      "22/22 [==============================] - 0s 1ms/step - loss: 195657.1624\n",
      "Epoch 35/250\n",
      "22/22 [==============================] - 0s 1ms/step - loss: 187730.1889\n",
      "Epoch 36/250\n",
      "22/22 [==============================] - 0s 1ms/step - loss: 183931.3451\n",
      "Epoch 37/250\n",
      "22/22 [==============================] - 0s 1ms/step - loss: 176253.2024\n",
      "Epoch 38/250\n",
      "22/22 [==============================] - 0s 1ms/step - loss: 168612.3458\n",
      "Epoch 39/250\n",
      "22/22 [==============================] - 0s 1ms/step - loss: 167480.2928\n",
      "Epoch 40/250\n",
      "22/22 [==============================] - 0s 1ms/step - loss: 158462.4898\n",
      "Epoch 41/250\n",
      "22/22 [==============================] - 0s 1ms/step - loss: 152759.5978\n",
      "Epoch 42/250\n",
      "22/22 [==============================] - 0s 1ms/step - loss: 142234.4052\n",
      "Epoch 43/250\n",
      "22/22 [==============================] - 0s 1ms/step - loss: 140311.1950\n",
      "Epoch 44/250\n",
      "22/22 [==============================] - 0s 1ms/step - loss: 132534.0391\n",
      "Epoch 45/250\n",
      "22/22 [==============================] - 0s 1ms/step - loss: 125564.9372\n",
      "Epoch 46/250\n",
      "22/22 [==============================] - 0s 1ms/step - loss: 114945.0608\n",
      "Epoch 47/250\n",
      "22/22 [==============================] - 0s 1ms/step - loss: 108477.9592\n",
      "Epoch 48/250\n",
      "22/22 [==============================] - 0s 1ms/step - loss: 101802.5554\n",
      "Epoch 49/250\n",
      "22/22 [==============================] - 0s 1ms/step - loss: 92236.2565\n",
      "Epoch 50/250\n",
      "22/22 [==============================] - 0s 1ms/step - loss: 83317.0082\n",
      "Epoch 51/250\n",
      "22/22 [==============================] - 0s 2ms/step - loss: 77207.4504\n",
      "Epoch 52/250\n",
      "22/22 [==============================] - 0s 1ms/step - loss: 71364.5418\n",
      "Epoch 53/250\n",
      "22/22 [==============================] - 0s 2ms/step - loss: 61583.4888\n",
      "Epoch 54/250\n",
      "22/22 [==============================] - 0s 2ms/step - loss: 54024.5708\n",
      "Epoch 55/250\n",
      "22/22 [==============================] - 0s 2ms/step - loss: 48727.2833\n",
      "Epoch 56/250\n",
      "22/22 [==============================] - 0s 2ms/step - loss: 41423.7332\n",
      "Epoch 57/250\n",
      "22/22 [==============================] - 0s 2ms/step - loss: 33814.5142\n",
      "Epoch 58/250\n",
      "22/22 [==============================] - 0s 2ms/step - loss: 28842.9287\n",
      "Epoch 59/250\n",
      "22/22 [==============================] - 0s 2ms/step - loss: 22562.8359\n",
      "Epoch 60/250\n",
      "22/22 [==============================] - 0s 2ms/step - loss: 17283.1507\n",
      "Epoch 61/250\n",
      "22/22 [==============================] - 0s 2ms/step - loss: 12278.2408\n",
      "Epoch 62/250\n",
      "22/22 [==============================] - 0s 2ms/step - loss: 8672.6444\n",
      "Epoch 63/250\n",
      "22/22 [==============================] - 0s 2ms/step - loss: 6130.8322\n",
      "Epoch 64/250\n",
      "22/22 [==============================] - 0s 2ms/step - loss: 4146.3027\n",
      "Epoch 65/250\n",
      "22/22 [==============================] - 0s 2ms/step - loss: 3045.8188\n",
      "Epoch 66/250\n",
      "22/22 [==============================] - 0s 2ms/step - loss: 2467.3187\n",
      "Epoch 67/250\n",
      "22/22 [==============================] - 0s 1ms/step - loss: 2596.9799\n",
      "Epoch 68/250\n",
      "22/22 [==============================] - 0s 1ms/step - loss: 2899.9212\n",
      "Epoch 69/250\n",
      "22/22 [==============================] - 0s 1ms/step - loss: 2451.5749\n",
      "Epoch 70/250\n",
      "22/22 [==============================] - 0s 1ms/step - loss: 2500.8685\n",
      "Epoch 71/250\n",
      "22/22 [==============================] - 0s 1ms/step - loss: 2641.1992\n",
      "Epoch 72/250\n",
      "22/22 [==============================] - 0s 2ms/step - loss: 2472.0576\n",
      "Epoch 73/250\n",
      "22/22 [==============================] - 0s 1ms/step - loss: 2207.6176\n",
      "Epoch 74/250\n",
      "22/22 [==============================] - 0s 2ms/step - loss: 2193.1887\n",
      "Epoch 75/250\n",
      "22/22 [==============================] - 0s 1ms/step - loss: 2349.9949\n",
      "Epoch 76/250\n",
      "22/22 [==============================] - 0s 2ms/step - loss: 2069.9958\n",
      "Epoch 77/250\n",
      "22/22 [==============================] - 0s 2ms/step - loss: 1969.6710\n",
      "Epoch 78/250\n",
      "22/22 [==============================] - 0s 2ms/step - loss: 2240.4163\n",
      "Epoch 79/250\n",
      "22/22 [==============================] - 0s 2ms/step - loss: 1886.4112\n",
      "Epoch 80/250\n",
      "22/22 [==============================] - 0s 2ms/step - loss: 1919.1666\n",
      "Epoch 81/250\n",
      "22/22 [==============================] - 0s 1ms/step - loss: 1859.6203\n",
      "Epoch 82/250\n",
      "22/22 [==============================] - 0s 2ms/step - loss: 2007.5789\n",
      "Epoch 83/250\n",
      "22/22 [==============================] - 0s 2ms/step - loss: 1917.3316\n",
      "Epoch 84/250\n",
      "22/22 [==============================] - 0s 2ms/step - loss: 1750.2130\n",
      "Epoch 85/250\n",
      "22/22 [==============================] - 0s 2ms/step - loss: 1685.2391\n",
      "Epoch 86/250\n",
      "22/22 [==============================] - 0s 1ms/step - loss: 1727.8650\n",
      "Epoch 87/250\n",
      "22/22 [==============================] - 0s 1ms/step - loss: 1731.3297\n",
      "Epoch 88/250\n",
      "22/22 [==============================] - 0s 2ms/step - loss: 1522.7640\n",
      "Epoch 89/250\n",
      "22/22 [==============================] - 0s 2ms/step - loss: 1567.6001\n",
      "Epoch 90/250\n",
      "22/22 [==============================] - 0s 1ms/step - loss: 1485.0756\n",
      "Epoch 91/250\n",
      "22/22 [==============================] - 0s 1ms/step - loss: 1590.4020\n",
      "Epoch 92/250\n",
      "22/22 [==============================] - 0s 1ms/step - loss: 1342.9614\n",
      "Epoch 93/250\n",
      "22/22 [==============================] - 0s 2ms/step - loss: 1328.6497\n",
      "Epoch 94/250\n",
      "22/22 [==============================] - 0s 2ms/step - loss: 1349.8318\n",
      "Epoch 95/250\n",
      "22/22 [==============================] - 0s 2ms/step - loss: 1202.3909\n",
      "Epoch 96/250\n",
      "22/22 [==============================] - 0s 2ms/step - loss: 1165.0929\n",
      "Epoch 97/250\n"
     ]
    },
    {
     "name": "stdout",
     "output_type": "stream",
     "text": [
      "22/22 [==============================] - 0s 2ms/step - loss: 1236.3373\n",
      "Epoch 98/250\n",
      "22/22 [==============================] - 0s 2ms/step - loss: 1166.5207\n",
      "Epoch 99/250\n",
      "22/22 [==============================] - 0s 2ms/step - loss: 1083.8071\n",
      "Epoch 100/250\n",
      "22/22 [==============================] - 0s 2ms/step - loss: 1084.6957\n",
      "Epoch 101/250\n",
      "22/22 [==============================] - 0s 2ms/step - loss: 1063.4816\n",
      "Epoch 102/250\n",
      "22/22 [==============================] - 0s 2ms/step - loss: 1115.1712\n",
      "Epoch 103/250\n",
      "22/22 [==============================] - 0s 1ms/step - loss: 940.6489\n",
      "Epoch 104/250\n",
      "22/22 [==============================] - 0s 2ms/step - loss: 879.4994\n",
      "Epoch 105/250\n",
      "22/22 [==============================] - 0s 2ms/step - loss: 892.6604\n",
      "Epoch 106/250\n",
      "22/22 [==============================] - 0s 2ms/step - loss: 860.7742\n",
      "Epoch 107/250\n",
      "22/22 [==============================] - 0s 2ms/step - loss: 772.1260\n",
      "Epoch 108/250\n",
      "22/22 [==============================] - 0s 2ms/step - loss: 822.5398\n",
      "Epoch 109/250\n",
      "22/22 [==============================] - 0s 2ms/step - loss: 745.3595\n",
      "Epoch 110/250\n",
      "22/22 [==============================] - 0s 2ms/step - loss: 655.1195\n",
      "Epoch 111/250\n",
      "22/22 [==============================] - 0s 2ms/step - loss: 709.9830\n",
      "Epoch 112/250\n",
      "22/22 [==============================] - 0s 2ms/step - loss: 607.7092\n",
      "Epoch 113/250\n",
      "22/22 [==============================] - 0s 2ms/step - loss: 622.6531\n",
      "Epoch 114/250\n",
      "22/22 [==============================] - 0s 2ms/step - loss: 561.7638\n",
      "Epoch 115/250\n",
      "22/22 [==============================] - 0s 2ms/step - loss: 569.6107\n",
      "Epoch 116/250\n",
      "22/22 [==============================] - 0s 2ms/step - loss: 543.1315\n",
      "Epoch 117/250\n",
      "22/22 [==============================] - 0s 2ms/step - loss: 524.7926\n",
      "Epoch 118/250\n",
      "22/22 [==============================] - 0s 2ms/step - loss: 468.5726\n",
      "Epoch 119/250\n",
      "22/22 [==============================] - 0s 2ms/step - loss: 432.9770\n",
      "Epoch 120/250\n",
      "22/22 [==============================] - 0s 2ms/step - loss: 422.7194\n",
      "Epoch 121/250\n",
      "22/22 [==============================] - 0s 1ms/step - loss: 360.3740\n",
      "Epoch 122/250\n",
      "22/22 [==============================] - 0s 2ms/step - loss: 353.2255\n",
      "Epoch 123/250\n",
      "22/22 [==============================] - 0s 2ms/step - loss: 335.8986\n",
      "Epoch 124/250\n",
      "22/22 [==============================] - 0s 2ms/step - loss: 337.9422\n",
      "Epoch 125/250\n",
      "22/22 [==============================] - 0s 2ms/step - loss: 284.5275\n",
      "Epoch 126/250\n",
      "22/22 [==============================] - 0s 2ms/step - loss: 267.2648\n",
      "Epoch 127/250\n",
      "22/22 [==============================] - 0s 2ms/step - loss: 252.4350\n",
      "Epoch 128/250\n",
      "22/22 [==============================] - 0s 2ms/step - loss: 236.6000\n",
      "Epoch 129/250\n",
      "22/22 [==============================] - 0s 2ms/step - loss: 227.1578\n",
      "Epoch 130/250\n",
      "22/22 [==============================] - 0s 2ms/step - loss: 200.3086\n",
      "Epoch 131/250\n",
      "22/22 [==============================] - 0s 2ms/step - loss: 194.9828\n",
      "Epoch 132/250\n",
      "22/22 [==============================] - 0s 2ms/step - loss: 168.1903\n",
      "Epoch 133/250\n",
      "22/22 [==============================] - 0s 2ms/step - loss: 160.9932\n",
      "Epoch 134/250\n",
      "22/22 [==============================] - 0s 2ms/step - loss: 139.3682\n",
      "Epoch 135/250\n",
      "22/22 [==============================] - 0s 2ms/step - loss: 131.0027\n",
      "Epoch 136/250\n",
      "22/22 [==============================] - 0s 2ms/step - loss: 110.1757\n",
      "Epoch 137/250\n",
      "22/22 [==============================] - 0s 2ms/step - loss: 105.9216\n",
      "Epoch 138/250\n",
      "22/22 [==============================] - 0s 2ms/step - loss: 90.7123\n",
      "Epoch 139/250\n",
      "22/22 [==============================] - 0s 2ms/step - loss: 94.5384\n",
      "Epoch 140/250\n",
      "22/22 [==============================] - 0s 1ms/step - loss: 82.3296\n",
      "Epoch 141/250\n",
      "22/22 [==============================] - 0s 1ms/step - loss: 73.8831\n",
      "Epoch 142/250\n",
      "22/22 [==============================] - 0s 2ms/step - loss: 59.6007\n",
      "Epoch 143/250\n",
      "22/22 [==============================] - 0s 1ms/step - loss: 59.7930\n",
      "Epoch 144/250\n",
      "22/22 [==============================] - 0s 1ms/step - loss: 52.7642\n",
      "Epoch 145/250\n",
      "22/22 [==============================] - 0s 1ms/step - loss: 46.6176\n",
      "Epoch 146/250\n",
      "22/22 [==============================] - 0s 2ms/step - loss: 40.9542\n",
      "Epoch 147/250\n",
      "22/22 [==============================] - 0s 1ms/step - loss: 41.3579\n",
      "Epoch 148/250\n",
      "22/22 [==============================] - 0s 2ms/step - loss: 37.8827\n",
      "Epoch 149/250\n",
      "22/22 [==============================] - 0s 1ms/step - loss: 37.1421\n",
      "Epoch 150/250\n",
      "22/22 [==============================] - 0s 1ms/step - loss: 31.7196\n",
      "Epoch 151/250\n",
      "22/22 [==============================] - 0s 1ms/step - loss: 31.7383\n",
      "Epoch 152/250\n",
      "22/22 [==============================] - 0s 1ms/step - loss: 30.6212\n",
      "Epoch 153/250\n",
      "22/22 [==============================] - 0s 1ms/step - loss: 28.5764\n",
      "Epoch 154/250\n",
      "22/22 [==============================] - 0s 1ms/step - loss: 26.4700\n",
      "Epoch 155/250\n",
      "22/22 [==============================] - 0s 2ms/step - loss: 25.8885\n",
      "Epoch 156/250\n",
      "22/22 [==============================] - 0s 2ms/step - loss: 27.2628\n",
      "Epoch 157/250\n",
      "22/22 [==============================] - 0s 1ms/step - loss: 25.2099\n",
      "Epoch 158/250\n",
      "22/22 [==============================] - 0s 2ms/step - loss: 26.5906\n",
      "Epoch 159/250\n",
      "22/22 [==============================] - 0s 2ms/step - loss: 26.2524\n",
      "Epoch 160/250\n",
      "22/22 [==============================] - 0s 2ms/step - loss: 25.8933\n",
      "Epoch 161/250\n",
      "22/22 [==============================] - 0s 2ms/step - loss: 27.6220\n",
      "Epoch 162/250\n",
      "22/22 [==============================] - 0s 1ms/step - loss: 23.8803\n",
      "Epoch 163/250\n",
      "22/22 [==============================] - 0s 1ms/step - loss: 24.0423\n",
      "Epoch 164/250\n",
      "22/22 [==============================] - 0s 2ms/step - loss: 25.0804\n",
      "Epoch 165/250\n",
      "22/22 [==============================] - 0s 2ms/step - loss: 24.4466\n",
      "Epoch 166/250\n",
      "22/22 [==============================] - 0s 2ms/step - loss: 24.6304\n",
      "Epoch 167/250\n",
      "22/22 [==============================] - 0s 2ms/step - loss: 24.3907\n",
      "Epoch 168/250\n",
      "22/22 [==============================] - 0s 1ms/step - loss: 23.1062\n",
      "Epoch 169/250\n",
      "22/22 [==============================] - 0s 2ms/step - loss: 25.2565\n",
      "Epoch 170/250\n",
      "22/22 [==============================] - 0s 2ms/step - loss: 24.7798\n",
      "Epoch 171/250\n",
      "22/22 [==============================] - 0s 1ms/step - loss: 25.5436\n",
      "Epoch 172/250\n",
      "22/22 [==============================] - 0s 2ms/step - loss: 23.7390\n",
      "Epoch 173/250\n",
      "22/22 [==============================] - 0s 2ms/step - loss: 25.1807\n",
      "Epoch 174/250\n",
      "22/22 [==============================] - 0s 2ms/step - loss: 24.2436\n",
      "Epoch 175/250\n",
      "22/22 [==============================] - 0s 2ms/step - loss: 27.3647\n",
      "Epoch 176/250\n",
      "22/22 [==============================] - 0s 1ms/step - loss: 25.9467\n",
      "Epoch 177/250\n",
      "22/22 [==============================] - 0s 1ms/step - loss: 22.7886\n",
      "Epoch 178/250\n",
      "22/22 [==============================] - 0s 2ms/step - loss: 24.4127\n",
      "Epoch 179/250\n",
      "22/22 [==============================] - 0s 2ms/step - loss: 23.1690\n",
      "Epoch 180/250\n",
      "22/22 [==============================] - 0s 2ms/step - loss: 25.6048\n",
      "Epoch 181/250\n",
      "22/22 [==============================] - 0s 2ms/step - loss: 23.5833\n",
      "Epoch 182/250\n",
      "22/22 [==============================] - 0s 2ms/step - loss: 25.1332\n",
      "Epoch 183/250\n",
      "22/22 [==============================] - 0s 1ms/step - loss: 24.8878\n",
      "Epoch 184/250\n",
      "22/22 [==============================] - 0s 2ms/step - loss: 23.2076\n",
      "Epoch 185/250\n",
      "22/22 [==============================] - 0s 2ms/step - loss: 23.0926\n",
      "Epoch 186/250\n",
      "22/22 [==============================] - 0s 2ms/step - loss: 23.4395\n",
      "Epoch 187/250\n",
      "22/22 [==============================] - 0s 1ms/step - loss: 23.2395\n",
      "Epoch 188/250\n",
      "22/22 [==============================] - 0s 2ms/step - loss: 23.9078\n",
      "Epoch 189/250\n",
      "22/22 [==============================] - 0s 1ms/step - loss: 24.9857\n",
      "Epoch 190/250\n",
      "22/22 [==============================] - 0s 1ms/step - loss: 23.0736\n",
      "Epoch 191/250\n",
      "22/22 [==============================] - 0s 1ms/step - loss: 25.9663\n",
      "Epoch 192/250\n",
      "22/22 [==============================] - 0s 1ms/step - loss: 24.3331\n",
      "Epoch 193/250\n",
      "22/22 [==============================] - 0s 1ms/step - loss: 24.3856\n",
      "Epoch 194/250\n",
      "22/22 [==============================] - 0s 1ms/step - loss: 24.9021\n",
      "Epoch 195/250\n"
     ]
    },
    {
     "name": "stdout",
     "output_type": "stream",
     "text": [
      "22/22 [==============================] - 0s 2ms/step - loss: 23.0071\n",
      "Epoch 196/250\n",
      "22/22 [==============================] - 0s 2ms/step - loss: 24.5318\n",
      "Epoch 197/250\n",
      "22/22 [==============================] - 0s 2ms/step - loss: 25.7910\n",
      "Epoch 198/250\n",
      "22/22 [==============================] - 0s 1ms/step - loss: 25.9924\n",
      "Epoch 199/250\n",
      "22/22 [==============================] - 0s 2ms/step - loss: 26.3506\n",
      "Epoch 200/250\n",
      "22/22 [==============================] - 0s 2ms/step - loss: 24.3805\n",
      "Epoch 201/250\n",
      "22/22 [==============================] - 0s 2ms/step - loss: 26.1608\n",
      "Epoch 202/250\n",
      "22/22 [==============================] - 0s 2ms/step - loss: 23.7895\n",
      "Epoch 203/250\n",
      "22/22 [==============================] - 0s 2ms/step - loss: 23.1125\n",
      "Epoch 204/250\n",
      "22/22 [==============================] - 0s 2ms/step - loss: 23.8470\n",
      "Epoch 205/250\n",
      "22/22 [==============================] - 0s 1ms/step - loss: 23.8924\n",
      "Epoch 206/250\n",
      "22/22 [==============================] - 0s 1ms/step - loss: 22.9211\n",
      "Epoch 207/250\n",
      "22/22 [==============================] - 0s 2ms/step - loss: 23.7031\n",
      "Epoch 208/250\n",
      "22/22 [==============================] - 0s 2ms/step - loss: 22.9046\n",
      "Epoch 209/250\n",
      "22/22 [==============================] - 0s 2ms/step - loss: 24.8657\n",
      "Epoch 210/250\n",
      "22/22 [==============================] - 0s 2ms/step - loss: 24.5175\n",
      "Epoch 211/250\n",
      "22/22 [==============================] - 0s 2ms/step - loss: 22.7910\n",
      "Epoch 212/250\n",
      "22/22 [==============================] - 0s 2ms/step - loss: 23.5252\n",
      "Epoch 213/250\n",
      "22/22 [==============================] - 0s 2ms/step - loss: 25.0220\n",
      "Epoch 214/250\n",
      "22/22 [==============================] - 0s 2ms/step - loss: 25.0541\n",
      "Epoch 215/250\n",
      "22/22 [==============================] - 0s 2ms/step - loss: 25.3527\n",
      "Epoch 216/250\n",
      "22/22 [==============================] - 0s 2ms/step - loss: 25.3405\n",
      "Epoch 217/250\n",
      "22/22 [==============================] - 0s 2ms/step - loss: 24.9611\n",
      "Epoch 218/250\n",
      "22/22 [==============================] - 0s 2ms/step - loss: 23.7266\n",
      "Epoch 219/250\n",
      "22/22 [==============================] - 0s 2ms/step - loss: 24.5471\n",
      "Epoch 220/250\n",
      "22/22 [==============================] - 0s 2ms/step - loss: 25.2735\n",
      "Epoch 221/250\n",
      "22/22 [==============================] - 0s 2ms/step - loss: 23.3910\n",
      "Epoch 222/250\n",
      "22/22 [==============================] - 0s 1ms/step - loss: 22.8714\n",
      "Epoch 223/250\n",
      "22/22 [==============================] - 0s 2ms/step - loss: 24.9380\n",
      "Epoch 224/250\n",
      "22/22 [==============================] - 0s 2ms/step - loss: 25.2817\n",
      "Epoch 225/250\n",
      "22/22 [==============================] - 0s 2ms/step - loss: 23.8063\n",
      "Epoch 226/250\n",
      "22/22 [==============================] - 0s 2ms/step - loss: 22.9344\n",
      "Epoch 227/250\n",
      "22/22 [==============================] - 0s 2ms/step - loss: 24.7478\n",
      "Epoch 228/250\n",
      "22/22 [==============================] - 0s 2ms/step - loss: 24.4469\n",
      "Epoch 229/250\n",
      "22/22 [==============================] - 0s 2ms/step - loss: 25.2275\n",
      "Epoch 230/250\n",
      "22/22 [==============================] - 0s 2ms/step - loss: 23.9215\n",
      "Epoch 231/250\n",
      "22/22 [==============================] - 0s 2ms/step - loss: 24.5122\n",
      "Epoch 232/250\n",
      "22/22 [==============================] - 0s 2ms/step - loss: 23.7634\n",
      "Epoch 233/250\n",
      "22/22 [==============================] - 0s 1ms/step - loss: 25.9907\n",
      "Epoch 234/250\n",
      "22/22 [==============================] - 0s 2ms/step - loss: 24.5980\n",
      "Epoch 235/250\n",
      "22/22 [==============================] - 0s 2ms/step - loss: 26.3969\n",
      "Epoch 236/250\n",
      "22/22 [==============================] - 0s 2ms/step - loss: 24.0745\n",
      "Epoch 237/250\n",
      "22/22 [==============================] - 0s 1ms/step - loss: 26.4886\n",
      "Epoch 238/250\n",
      "22/22 [==============================] - 0s 2ms/step - loss: 23.7994\n",
      "Epoch 239/250\n",
      "22/22 [==============================] - 0s 1ms/step - loss: 23.7050\n",
      "Epoch 240/250\n",
      "22/22 [==============================] - 0s 2ms/step - loss: 24.9282\n",
      "Epoch 241/250\n",
      "22/22 [==============================] - 0s 1ms/step - loss: 22.3915\n",
      "Epoch 242/250\n",
      "22/22 [==============================] - 0s 2ms/step - loss: 25.0659\n",
      "Epoch 243/250\n",
      "22/22 [==============================] - 0s 2ms/step - loss: 25.4932\n",
      "Epoch 244/250\n",
      "22/22 [==============================] - 0s 2ms/step - loss: 24.4886\n",
      "Epoch 245/250\n",
      "22/22 [==============================] - 0s 2ms/step - loss: 24.9392\n",
      "Epoch 246/250\n",
      "22/22 [==============================] - 0s 2ms/step - loss: 25.3635\n",
      "Epoch 247/250\n",
      "22/22 [==============================] - 0s 2ms/step - loss: 22.3923\n",
      "Epoch 248/250\n",
      "22/22 [==============================] - 0s 2ms/step - loss: 24.3146\n",
      "Epoch 249/250\n",
      "22/22 [==============================] - 0s 2ms/step - loss: 24.4814\n",
      "Epoch 250/250\n",
      "22/22 [==============================] - 0s 2ms/step - loss: 26.5326\n"
     ]
    },
    {
     "data": {
      "text/plain": [
       "<tensorflow.python.keras.callbacks.History at 0x1a55802908>"
      ]
     },
     "execution_count": 129,
     "metadata": {},
     "output_type": "execute_result"
    }
   ],
   "source": [
    "model.fit(X_train,y_train,epochs=250)"
   ]
  },
  {
   "cell_type": "markdown",
   "metadata": {},
   "source": [
    "## Evaluation\n",
    "\n",
    "Let's evaluate our performance on our training set and our test set. We can compare these two performances to check for overfitting."
   ]
  },
  {
   "cell_type": "code",
   "execution_count": 130,
   "metadata": {},
   "outputs": [
    {
     "data": {
      "text/plain": [
       "{'loss': [256609.515625,\n",
       "  256416.15625,\n",
       "  256196.015625,\n",
       "  255940.34375,\n",
       "  255642.5625,\n",
       "  255293.09375,\n",
       "  254891.109375,\n",
       "  254426.15625,\n",
       "  253889.34375,\n",
       "  253269.078125,\n",
       "  252558.859375,\n",
       "  251746.609375,\n",
       "  250828.609375,\n",
       "  249797.03125,\n",
       "  248640.53125,\n",
       "  247354.375,\n",
       "  245928.296875,\n",
       "  244357.1875,\n",
       "  242627.90625,\n",
       "  240731.390625,\n",
       "  238658.5625,\n",
       "  236401.96875,\n",
       "  233959.15625,\n",
       "  231324.015625,\n",
       "  228482.125,\n",
       "  225422.875,\n",
       "  222140.796875,\n",
       "  218610.5625,\n",
       "  214888.25,\n",
       "  210923.359375,\n",
       "  206690.265625,\n",
       "  202230.5625,\n",
       "  197496.390625,\n",
       "  192536.140625,\n",
       "  187301.375,\n",
       "  181834.046875,\n",
       "  176104.453125,\n",
       "  170118.6875,\n",
       "  163927.609375,\n",
       "  157485.34375,\n",
       "  150834.21875,\n",
       "  143960.015625,\n",
       "  136912.203125,\n",
       "  129679.5,\n",
       "  122283.1171875,\n",
       "  114707.015625,\n",
       "  107036.984375,\n",
       "  99313.3125,\n",
       "  91517.0859375,\n",
       "  83699.09375,\n",
       "  75952.0546875,\n",
       "  68308.125,\n",
       "  60719.1328125,\n",
       "  53303.0,\n",
       "  46168.88671875,\n",
       "  39322.00390625,\n",
       "  32808.58203125,\n",
       "  26787.556640625,\n",
       "  21230.423828125,\n",
       "  16260.169921875,\n",
       "  11974.294921875,\n",
       "  8451.5009765625,\n",
       "  5779.412109375,\n",
       "  3984.208251953125,\n",
       "  3041.1904296875,\n",
       "  2711.438232421875,\n",
       "  2653.512939453125,\n",
       "  2600.882080078125,\n",
       "  2545.499755859375,\n",
       "  2498.118896484375,\n",
       "  2449.799072265625,\n",
       "  2397.421142578125,\n",
       "  2343.806884765625,\n",
       "  2296.4296875,\n",
       "  2241.103271484375,\n",
       "  2196.805908203125,\n",
       "  2141.92822265625,\n",
       "  2088.81884765625,\n",
       "  2039.8997802734375,\n",
       "  1990.1956787109375,\n",
       "  1937.3487548828125,\n",
       "  1891.789306640625,\n",
       "  1844.5980224609375,\n",
       "  1805.94140625,\n",
       "  1754.7403564453125,\n",
       "  1712.6473388671875,\n",
       "  1659.3282470703125,\n",
       "  1610.56640625,\n",
       "  1554.287841796875,\n",
       "  1505.8634033203125,\n",
       "  1465.5660400390625,\n",
       "  1424.146484375,\n",
       "  1382.722900390625,\n",
       "  1338.9063720703125,\n",
       "  1294.45263671875,\n",
       "  1250.791748046875,\n",
       "  1207.7296142578125,\n",
       "  1165.190673828125,\n",
       "  1125.0682373046875,\n",
       "  1088.0260009765625,\n",
       "  1044.9735107421875,\n",
       "  1006.9880981445312,\n",
       "  963.97705078125,\n",
       "  928.1024780273438,\n",
       "  886.2511596679688,\n",
       "  854.875,\n",
       "  818.8516235351562,\n",
       "  782.8126831054688,\n",
       "  746.9331665039062,\n",
       "  710.290283203125,\n",
       "  676.0213012695312,\n",
       "  639.8862915039062,\n",
       "  604.6439208984375,\n",
       "  572.4413452148438,\n",
       "  542.3148803710938,\n",
       "  513.1057739257812,\n",
       "  485.1584777832031,\n",
       "  458.9837951660156,\n",
       "  431.9310607910156,\n",
       "  404.334228515625,\n",
       "  377.0617980957031,\n",
       "  357.97552490234375,\n",
       "  337.3055725097656,\n",
       "  314.3275146484375,\n",
       "  293.6910095214844,\n",
       "  274.85577392578125,\n",
       "  256.99603271484375,\n",
       "  237.23316955566406,\n",
       "  217.6357879638672,\n",
       "  200.88670349121094,\n",
       "  183.56619262695312,\n",
       "  167.34588623046875,\n",
       "  152.699951171875,\n",
       "  139.1421356201172,\n",
       "  125.85348510742188,\n",
       "  113.78997802734375,\n",
       "  101.56777954101562,\n",
       "  91.64094543457031,\n",
       "  82.92977905273438,\n",
       "  75.51605224609375,\n",
       "  68.7150650024414,\n",
       "  61.54682922363281,\n",
       "  55.81135177612305,\n",
       "  50.756996154785156,\n",
       "  46.18836212158203,\n",
       "  41.763702392578125,\n",
       "  38.34797286987305,\n",
       "  35.792503356933594,\n",
       "  33.328189849853516,\n",
       "  31.2918758392334,\n",
       "  30.723922729492188,\n",
       "  29.149673461914062,\n",
       "  28.51280975341797,\n",
       "  26.881010055541992,\n",
       "  26.77198028564453,\n",
       "  26.280759811401367,\n",
       "  26.0855655670166,\n",
       "  25.547054290771484,\n",
       "  25.146621704101562,\n",
       "  25.098495483398438,\n",
       "  25.86214256286621,\n",
       "  24.651071548461914,\n",
       "  24.833925247192383,\n",
       "  24.97661781311035,\n",
       "  24.5196590423584,\n",
       "  24.543439865112305,\n",
       "  24.499801635742188,\n",
       "  24.558258056640625,\n",
       "  24.75766372680664,\n",
       "  24.590707778930664,\n",
       "  24.622407913208008,\n",
       "  23.914087295532227,\n",
       "  24.524436950683594,\n",
       "  24.391244888305664,\n",
       "  24.453237533569336,\n",
       "  24.720102310180664,\n",
       "  24.657155990600586,\n",
       "  24.383766174316406,\n",
       "  24.621740341186523,\n",
       "  24.385555267333984,\n",
       "  24.5465145111084,\n",
       "  24.14046859741211,\n",
       "  24.284561157226562,\n",
       "  24.195589065551758,\n",
       "  24.753177642822266,\n",
       "  24.41883659362793,\n",
       "  24.957260131835938,\n",
       "  24.477399826049805,\n",
       "  24.026905059814453,\n",
       "  24.072044372558594,\n",
       "  25.025543212890625,\n",
       "  24.691694259643555,\n",
       "  24.70626449584961,\n",
       "  24.375307083129883,\n",
       "  23.932598114013672,\n",
       "  24.52176856994629,\n",
       "  24.64817237854004,\n",
       "  24.64040756225586,\n",
       "  24.34748077392578,\n",
       "  24.103984832763672,\n",
       "  25.04741096496582,\n",
       "  24.019363403320312,\n",
       "  24.32791519165039,\n",
       "  24.655311584472656,\n",
       "  24.8267765045166,\n",
       "  24.525836944580078,\n",
       "  24.397912979125977,\n",
       "  24.463953018188477,\n",
       "  24.342636108398438,\n",
       "  24.023897171020508,\n",
       "  23.949865341186523,\n",
       "  24.91105842590332,\n",
       "  24.150238037109375,\n",
       "  24.66878318786621,\n",
       "  24.229909896850586,\n",
       "  24.484357833862305,\n",
       "  24.40320587158203,\n",
       "  24.6895694732666,\n",
       "  24.355003356933594,\n",
       "  24.386756896972656,\n",
       "  24.583393096923828,\n",
       "  24.42068099975586,\n",
       "  24.333568572998047,\n",
       "  24.32721519470215,\n",
       "  24.788841247558594,\n",
       "  24.50640869140625,\n",
       "  24.956254959106445,\n",
       "  24.196353912353516,\n",
       "  25.10805892944336,\n",
       "  24.465272903442383,\n",
       "  24.351158142089844,\n",
       "  24.24213218688965,\n",
       "  24.381710052490234,\n",
       "  24.402891159057617,\n",
       "  24.93087387084961,\n",
       "  24.176422119140625,\n",
       "  24.376995086669922,\n",
       "  24.345823287963867,\n",
       "  24.26725959777832,\n",
       "  24.906604766845703,\n",
       "  24.378419876098633,\n",
       "  24.36697006225586,\n",
       "  24.92458152770996,\n",
       "  24.127683639526367,\n",
       "  24.81532096862793,\n",
       "  24.633325576782227,\n",
       "  24.40880584716797,\n",
       "  24.65918731689453,\n",
       "  24.40516471862793,\n",
       "  24.74983787536621]}"
      ]
     },
     "execution_count": 130,
     "metadata": {},
     "output_type": "execute_result"
    }
   ],
   "source": [
    "model.history.history"
   ]
  },
  {
   "cell_type": "code",
   "execution_count": 131,
   "metadata": {},
   "outputs": [],
   "source": [
    "loss = model.history.history['loss']"
   ]
  },
  {
   "cell_type": "code",
   "execution_count": 132,
   "metadata": {
    "scrolled": true
   },
   "outputs": [
    {
     "data": {
      "image/png": "[encoded data removed]",
      "text/plain": [
       "<Figure size 432x288 with 1 Axes>"
      ]
     },
     "metadata": {
      "needs_background": "light"
     },
     "output_type": "display_data"
    }
   ],
   "source": [
    "sns.lineplot(x=range(len(loss)),y=loss)\n",
    "plt.title(\"Training Loss per Epoch\");"
   ]
  },
  {
   "cell_type": "markdown",
   "metadata": {},
   "source": [
    "### Compare final evaluation (MSE) on test set.\n"
   ]
  },
  {
   "cell_type": "code",
   "execution_count": 133,
   "metadata": {},
   "outputs": [
    {
     "data": {
      "text/plain": [
       "['loss']"
      ]
     },
     "execution_count": 133,
     "metadata": {},
     "output_type": "execute_result"
    }
   ],
   "source": [
    "model.metrics_names"
   ]
  },
  {
   "cell_type": "code",
   "execution_count": 134,
   "metadata": {},
   "outputs": [],
   "source": [
    "test_score = model.evaluate(X_test,y_test,verbose=0)"
   ]
  },
  {
   "cell_type": "code",
   "execution_count": 135,
   "metadata": {},
   "outputs": [
    {
     "data": {
      "text/plain": [
       "26.81996726989746"
      ]
     },
     "execution_count": 135,
     "metadata": {},
     "output_type": "execute_result"
    }
   ],
   "source": [
    "test_score"
   ]
  },
  {
   "cell_type": "markdown",
   "metadata": {},
   "source": [
    "## Further Evaluations"
   ]
  },
  {
   "cell_type": "code",
   "execution_count": 136,
   "metadata": {},
   "outputs": [],
   "source": [
    "test_predictions = model.predict(X_test)"
   ]
  },
  {
   "cell_type": "code",
   "execution_count": 137,
   "metadata": {},
   "outputs": [
    {
     "data": {
      "text/plain": [
       "array([[406.26688],\n",
       "       [625.0862 ],\n",
       "       [593.5946 ],\n",
       "       [573.643  ],\n",
       "       [367.50076],\n",
       "       [580.6113 ],\n",
       "       [516.324  ],\n",
       "       [460.22214],\n",
       "       [550.6019 ],\n",
       "       [448.6034 ],\n",
       "       [613.3016 ],\n",
       "       [550.28986],\n",
       "       [420.11374],\n",
       "       [409.85815],\n",
       "       [652.85254],\n",
       "       [438.3578 ],\n",
       "       [509.6921 ],\n",
       "       [661.5801 ],\n",
       "       [664.23505],\n",
       "       [566.92975],\n",
       "       [335.02353],\n",
       "       [445.91476],\n",
       "       [383.44727],\n",
       "       [379.66266],\n",
       "       [567.9939 ],\n",
       "       [612.1094 ],\n",
       "       [533.7009 ],\n",
       "       [428.89572],\n",
       "       [657.0791 ],\n",
       "       [415.07864],\n",
       "       [443.70792],\n",
       "       [486.31357],\n",
       "       [439.47757],\n",
       "       [683.55096],\n",
       "       [425.7808 ],\n",
       "       [418.69928],\n",
       "       [503.14844],\n",
       "       [551.83105],\n",
       "       [510.9896 ],\n",
       "       [396.3162 ],\n",
       "       [620.1235 ],\n",
       "       [417.63303],\n",
       "       [605.94507],\n",
       "       [447.03787],\n",
       "       [503.21902],\n",
       "       [583.1451 ],\n",
       "       [670.6603 ],\n",
       "       [491.59927],\n",
       "       [319.3265 ],\n",
       "       [486.61465],\n",
       "       [518.5329 ],\n",
       "       [382.70413],\n",
       "       [543.23706],\n",
       "       [409.58072],\n",
       "       [643.11206],\n",
       "       [492.2801 ],\n",
       "       [629.5097 ],\n",
       "       [628.5504 ],\n",
       "       [448.1575 ],\n",
       "       [485.89337],\n",
       "       [492.34213],\n",
       "       [475.69708],\n",
       "       [684.48975],\n",
       "       [404.26468],\n",
       "       [702.88617],\n",
       "       [587.8529 ],\n",
       "       [584.5636 ],\n",
       "       [539.17694],\n",
       "       [485.76205],\n",
       "       [517.8349 ],\n",
       "       [362.08704],\n",
       "       [542.0882 ],\n",
       "       [572.042  ],\n",
       "       [529.7484 ],\n",
       "       [454.8253 ],\n",
       "       [532.4467 ],\n",
       "       [508.4487 ],\n",
       "       [444.4201 ],\n",
       "       [544.70935],\n",
       "       [642.34155],\n",
       "       [467.15933],\n",
       "       [568.6593 ],\n",
       "       [692.48444],\n",
       "       [459.85834],\n",
       "       [710.69037],\n",
       "       [473.85385],\n",
       "       [404.24557],\n",
       "       [586.5537 ],\n",
       "       [437.81024],\n",
       "       [490.15787],\n",
       "       [618.56824],\n",
       "       [440.54095],\n",
       "       [456.44556],\n",
       "       [436.3197 ],\n",
       "       [508.16476],\n",
       "       [609.9614 ],\n",
       "       [322.39166],\n",
       "       [437.32953],\n",
       "       [537.6626 ],\n",
       "       [519.91644],\n",
       "       [606.5618 ],\n",
       "       [526.7438 ],\n",
       "       [334.9233 ],\n",
       "       [577.58344],\n",
       "       [432.84656],\n",
       "       [563.9338 ],\n",
       "       [514.6675 ],\n",
       "       [392.03217],\n",
       "       [567.6649 ],\n",
       "       [455.89743],\n",
       "       [449.58325],\n",
       "       [642.55664],\n",
       "       [525.66187],\n",
       "       [552.04285],\n",
       "       [418.70767],\n",
       "       [479.91672],\n",
       "       [587.9776 ],\n",
       "       [669.0467 ],\n",
       "       [702.21857],\n",
       "       [661.05054],\n",
       "       [561.95294],\n",
       "       [504.40628],\n",
       "       [391.30597],\n",
       "       [282.00223],\n",
       "       [480.7877 ],\n",
       "       [617.89667],\n",
       "       [374.20316],\n",
       "       [513.5223 ],\n",
       "       [512.2955 ],\n",
       "       [494.7034 ],\n",
       "       [481.63742],\n",
       "       [424.8291 ],\n",
       "       [494.673  ],\n",
       "       [472.62552],\n",
       "       [601.931  ],\n",
       "       [574.99194],\n",
       "       [415.98398],\n",
       "       [632.2167 ],\n",
       "       [467.50983],\n",
       "       [565.7308 ],\n",
       "       [406.6709 ],\n",
       "       [533.49097],\n",
       "       [574.0576 ],\n",
       "       [357.93845],\n",
       "       [551.2003 ],\n",
       "       [604.85803],\n",
       "       [385.2326 ],\n",
       "       [543.7402 ],\n",
       "       [563.98865],\n",
       "       [453.98645],\n",
       "       [633.7806 ],\n",
       "       [373.15912],\n",
       "       [475.4226 ],\n",
       "       [530.1833 ],\n",
       "       [373.19266],\n",
       "       [462.3733 ],\n",
       "       [437.38266],\n",
       "       [499.72333],\n",
       "       [346.93417],\n",
       "       [396.24258],\n",
       "       [606.0841 ],\n",
       "       [507.9    ],\n",
       "       [469.76526],\n",
       "       [491.56802],\n",
       "       [536.59454],\n",
       "       [345.32495],\n",
       "       [513.573  ],\n",
       "       [251.37743],\n",
       "       [505.32944],\n",
       "       [542.45215],\n",
       "       [490.5764 ],\n",
       "       [472.23083],\n",
       "       [393.49704],\n",
       "       [417.2551 ],\n",
       "       [550.94196],\n",
       "       [476.96927],\n",
       "       [581.3956 ],\n",
       "       [490.98438],\n",
       "       [602.4928 ],\n",
       "       [548.34656],\n",
       "       [543.3011 ],\n",
       "       [501.81448],\n",
       "       [647.4541 ],\n",
       "       [561.8097 ],\n",
       "       [579.36273],\n",
       "       [445.2062 ],\n",
       "       [416.52206],\n",
       "       [421.06708],\n",
       "       [570.53064],\n",
       "       [610.53394],\n",
       "       [438.8208 ],\n",
       "       [489.1685 ],\n",
       "       [589.2223 ],\n",
       "       [526.68695],\n",
       "       [358.22443],\n",
       "       [647.03577],\n",
       "       [529.3453 ],\n",
       "       [338.0174 ],\n",
       "       [493.90567],\n",
       "       [411.14395],\n",
       "       [608.1114 ],\n",
       "       [347.35556],\n",
       "       [523.7014 ],\n",
       "       [405.66785],\n",
       "       [259.02658],\n",
       "       [521.17566],\n",
       "       [341.69827],\n",
       "       [362.92682],\n",
       "       [577.8432 ],\n",
       "       [417.68036],\n",
       "       [552.3579 ],\n",
       "       [522.37604],\n",
       "       [512.0373 ],\n",
       "       [325.521  ],\n",
       "       [405.14246],\n",
       "       [603.9084 ],\n",
       "       [619.4077 ],\n",
       "       [604.7879 ],\n",
       "       [567.688  ],\n",
       "       [474.59677],\n",
       "       [461.49603],\n",
       "       [509.68832],\n",
       "       [446.9879 ],\n",
       "       [512.5667 ],\n",
       "       [503.6282 ],\n",
       "       [401.10428],\n",
       "       [607.03906],\n",
       "       [258.7357 ],\n",
       "       [629.81854],\n",
       "       [590.58655],\n",
       "       [327.9196 ],\n",
       "       [480.73453],\n",
       "       [596.826  ],\n",
       "       [379.3073 ],\n",
       "       [461.28293],\n",
       "       [325.77502],\n",
       "       [519.9672 ],\n",
       "       [410.60327],\n",
       "       [557.6261 ],\n",
       "       [643.49225],\n",
       "       [538.15454],\n",
       "       [504.4136 ],\n",
       "       [636.6184 ],\n",
       "       [516.5094 ],\n",
       "       [533.0239 ],\n",
       "       [520.1121 ],\n",
       "       [458.55817],\n",
       "       [507.06845],\n",
       "       [462.23273],\n",
       "       [593.1629 ],\n",
       "       [467.05698],\n",
       "       [428.22818],\n",
       "       [542.94055],\n",
       "       [495.01926],\n",
       "       [681.3856 ],\n",
       "       [373.66574],\n",
       "       [552.978  ],\n",
       "       [579.40216],\n",
       "       [435.0301 ],\n",
       "       [544.3731 ],\n",
       "       [587.44867],\n",
       "       [580.6803 ],\n",
       "       [722.75354],\n",
       "       [433.80832],\n",
       "       [399.55606],\n",
       "       [314.74747],\n",
       "       [449.3819 ],\n",
       "       [389.01407],\n",
       "       [544.5548 ],\n",
       "       [524.0293 ],\n",
       "       [565.8783 ],\n",
       "       [449.1088 ],\n",
       "       [535.72815],\n",
       "       [382.70886],\n",
       "       [502.74948],\n",
       "       [638.70276],\n",
       "       [497.7625 ],\n",
       "       [569.80634],\n",
       "       [471.26813],\n",
       "       [273.9329 ],\n",
       "       [518.64575],\n",
       "       [622.9535 ],\n",
       "       [351.35168],\n",
       "       [451.55487],\n",
       "       [500.5234 ],\n",
       "       [544.3189 ],\n",
       "       [613.3466 ],\n",
       "       [389.1237 ],\n",
       "       [450.50772],\n",
       "       [483.59518],\n",
       "       [599.8079 ],\n",
       "       [500.6193 ],\n",
       "       [322.21893],\n",
       "       [556.5218 ],\n",
       "       [445.71585],\n",
       "       [530.34863],\n",
       "       [516.60876],\n",
       "       [611.1611 ],\n",
       "       [417.9588 ],\n",
       "       [411.87057]], dtype=float32)"
      ]
     },
     "execution_count": 137,
     "metadata": {},
     "output_type": "execute_result"
    }
   ],
   "source": [
    "test_predictions"
   ]
  },
  {
   "cell_type": "code",
   "execution_count": 138,
   "metadata": {},
   "outputs": [],
   "source": [
    "pred_df = pd.DataFrame(y_test,columns=['Test Y'])"
   ]
  },
  {
   "cell_type": "code",
   "execution_count": 139,
   "metadata": {},
   "outputs": [
    {
     "data": {
      "text/html": [
       "<div>\n",
       "<style scoped>\n",
       "    .dataframe tbody tr th:only-of-type {\n",
       "        vertical-align: middle;\n",
       "    }\n",
       "\n",
       "    .dataframe tbody tr th {\n",
       "        vertical-align: top;\n",
       "    }\n",
       "\n",
       "    .dataframe thead th {\n",
       "        text-align: right;\n",
       "    }\n",
       "</style>\n",
       "<table border=\"1\" class=\"dataframe\">\n",
       "  <thead>\n",
       "    <tr style=\"text-align: right;\">\n",
       "      <th></th>\n",
       "      <th>Test Y</th>\n",
       "    </tr>\n",
       "  </thead>\n",
       "  <tbody>\n",
       "    <tr>\n",
       "      <th>0</th>\n",
       "      <td>402.296319</td>\n",
       "    </tr>\n",
       "    <tr>\n",
       "      <th>1</th>\n",
       "      <td>624.156198</td>\n",
       "    </tr>\n",
       "    <tr>\n",
       "      <th>2</th>\n",
       "      <td>582.455066</td>\n",
       "    </tr>\n",
       "    <tr>\n",
       "      <th>3</th>\n",
       "      <td>578.588606</td>\n",
       "    </tr>\n",
       "    <tr>\n",
       "      <th>4</th>\n",
       "      <td>371.224104</td>\n",
       "    </tr>\n",
       "    <tr>\n",
       "      <th>...</th>\n",
       "      <td>...</td>\n",
       "    </tr>\n",
       "    <tr>\n",
       "      <th>295</th>\n",
       "      <td>525.704657</td>\n",
       "    </tr>\n",
       "    <tr>\n",
       "      <th>296</th>\n",
       "      <td>502.909473</td>\n",
       "    </tr>\n",
       "    <tr>\n",
       "      <th>297</th>\n",
       "      <td>612.727910</td>\n",
       "    </tr>\n",
       "    <tr>\n",
       "      <th>298</th>\n",
       "      <td>417.569725</td>\n",
       "    </tr>\n",
       "    <tr>\n",
       "      <th>299</th>\n",
       "      <td>410.538250</td>\n",
       "    </tr>\n",
       "  </tbody>\n",
       "</table>\n",
       "<p>300 rows × 1 columns</p>\n",
       "</div>"
      ],
      "text/plain": [
       "         Test Y\n",
       "0    402.296319\n",
       "1    624.156198\n",
       "2    582.455066\n",
       "3    578.588606\n",
       "4    371.224104\n",
       "..          ...\n",
       "295  525.704657\n",
       "296  502.909473\n",
       "297  612.727910\n",
       "298  417.569725\n",
       "299  410.538250\n",
       "\n",
       "[300 rows x 1 columns]"
      ]
     },
     "execution_count": 139,
     "metadata": {},
     "output_type": "execute_result"
    }
   ],
   "source": [
    "pred_df"
   ]
  },
  {
   "cell_type": "code",
   "execution_count": 140,
   "metadata": {},
   "outputs": [],
   "source": [
    "test_predictions = pd.Series(test_predictions.reshape(300,))"
   ]
  },
  {
   "cell_type": "code",
   "execution_count": 141,
   "metadata": {},
   "outputs": [
    {
     "data": {
      "text/plain": [
       "0      406.266876\n",
       "1      625.086182\n",
       "2      593.594604\n",
       "3      573.643005\n",
       "4      367.500763\n",
       "          ...    \n",
       "295    530.348633\n",
       "296    516.608765\n",
       "297    611.161072\n",
       "298    417.958801\n",
       "299    411.870575\n",
       "Length: 300, dtype: float32"
      ]
     },
     "execution_count": 141,
     "metadata": {},
     "output_type": "execute_result"
    }
   ],
   "source": [
    "test_predictions"
   ]
  },
  {
   "cell_type": "code",
   "execution_count": 142,
   "metadata": {},
   "outputs": [],
   "source": [
    "pred_df = pd.concat([pred_df,test_predictions],axis=1)"
   ]
  },
  {
   "cell_type": "code",
   "execution_count": 143,
   "metadata": {},
   "outputs": [],
   "source": [
    "pred_df.columns = ['Test Y','Model Predictions']"
   ]
  },
  {
   "cell_type": "code",
   "execution_count": 144,
   "metadata": {},
   "outputs": [
    {
     "data": {
      "text/html": [
       "<div>\n",
       "<style scoped>\n",
       "    .dataframe tbody tr th:only-of-type {\n",
       "        vertical-align: middle;\n",
       "    }\n",
       "\n",
       "    .dataframe tbody tr th {\n",
       "        vertical-align: top;\n",
       "    }\n",
       "\n",
       "    .dataframe thead th {\n",
       "        text-align: right;\n",
       "    }\n",
       "</style>\n",
       "<table border=\"1\" class=\"dataframe\">\n",
       "  <thead>\n",
       "    <tr style=\"text-align: right;\">\n",
       "      <th></th>\n",
       "      <th>Test Y</th>\n",
       "      <th>Model Predictions</th>\n",
       "    </tr>\n",
       "  </thead>\n",
       "  <tbody>\n",
       "    <tr>\n",
       "      <th>0</th>\n",
       "      <td>402.296319</td>\n",
       "      <td>406.266876</td>\n",
       "    </tr>\n",
       "    <tr>\n",
       "      <th>1</th>\n",
       "      <td>624.156198</td>\n",
       "      <td>625.086182</td>\n",
       "    </tr>\n",
       "    <tr>\n",
       "      <th>2</th>\n",
       "      <td>582.455066</td>\n",
       "      <td>593.594604</td>\n",
       "    </tr>\n",
       "    <tr>\n",
       "      <th>3</th>\n",
       "      <td>578.588606</td>\n",
       "      <td>573.643005</td>\n",
       "    </tr>\n",
       "    <tr>\n",
       "      <th>4</th>\n",
       "      <td>371.224104</td>\n",
       "      <td>367.500763</td>\n",
       "    </tr>\n",
       "    <tr>\n",
       "      <th>...</th>\n",
       "      <td>...</td>\n",
       "      <td>...</td>\n",
       "    </tr>\n",
       "    <tr>\n",
       "      <th>295</th>\n",
       "      <td>525.704657</td>\n",
       "      <td>530.348633</td>\n",
       "    </tr>\n",
       "    <tr>\n",
       "      <th>296</th>\n",
       "      <td>502.909473</td>\n",
       "      <td>516.608765</td>\n",
       "    </tr>\n",
       "    <tr>\n",
       "      <th>297</th>\n",
       "      <td>612.727910</td>\n",
       "      <td>611.161072</td>\n",
       "    </tr>\n",
       "    <tr>\n",
       "      <th>298</th>\n",
       "      <td>417.569725</td>\n",
       "      <td>417.958801</td>\n",
       "    </tr>\n",
       "    <tr>\n",
       "      <th>299</th>\n",
       "      <td>410.538250</td>\n",
       "      <td>411.870575</td>\n",
       "    </tr>\n",
       "  </tbody>\n",
       "</table>\n",
       "<p>300 rows × 2 columns</p>\n",
       "</div>"
      ],
      "text/plain": [
       "         Test Y  Model Predictions\n",
       "0    402.296319         406.266876\n",
       "1    624.156198         625.086182\n",
       "2    582.455066         593.594604\n",
       "3    578.588606         573.643005\n",
       "4    371.224104         367.500763\n",
       "..          ...                ...\n",
       "295  525.704657         530.348633\n",
       "296  502.909473         516.608765\n",
       "297  612.727910         611.161072\n",
       "298  417.569725         417.958801\n",
       "299  410.538250         411.870575\n",
       "\n",
       "[300 rows x 2 columns]"
      ]
     },
     "execution_count": 144,
     "metadata": {},
     "output_type": "execute_result"
    }
   ],
   "source": [
    "pred_df"
   ]
  },
  {
   "cell_type": "markdown",
   "metadata": {},
   "source": [
    "Let's compare to the real test labels!"
   ]
  },
  {
   "cell_type": "code",
   "execution_count": 146,
   "metadata": {},
   "outputs": [],
   "source": [
    "# Looks like are predictions were quite good compared to the y test results. The scatterplot between y test and our predictions is almost a straight line!"
   ]
  },
  {
   "cell_type": "code",
   "execution_count": 147,
   "metadata": {},
   "outputs": [
    {
     "data": {
      "text/plain": [
       "<matplotlib.axes._subplots.AxesSubplot at 0x1a55a637b8>"
      ]
     },
     "execution_count": 147,
     "metadata": {},
     "output_type": "execute_result"
    },
    {
     "data": {
      "image/png": "[encoded data removed]",
      "text/plain": [
       "<Figure size 432x288 with 1 Axes>"
      ]
     },
     "metadata": {
      "needs_background": "light"
     },
     "output_type": "display_data"
    }
   ],
   "source": [
    "sns.scatterplot(x='Test Y',y='Model Predictions',data=pred_df)"
   ]
  },
  {
   "cell_type": "markdown",
   "metadata": {},
   "source": [
    "### Error"
   ]
  },
  {
   "cell_type": "code",
   "execution_count": 148,
   "metadata": {},
   "outputs": [],
   "source": [
    "pred_df['Error'] = pred_df['Test Y'] - pred_df['Model Predictions']"
   ]
  },
  {
   "cell_type": "code",
   "execution_count": 151,
   "metadata": {},
   "outputs": [
    {
     "data": {
      "text/plain": [
       "<matplotlib.axes._subplots.AxesSubplot at 0x1a55f79518>"
      ]
     },
     "execution_count": 151,
     "metadata": {},
     "output_type": "execute_result"
    },
    {
     "data": {
      "image/png": "[encoded data removed]",
      "text/plain": [
       "<Figure size 432x288 with 1 Axes>"
      ]
     },
     "metadata": {
      "needs_background": "light"
     },
     "output_type": "display_data"
    }
   ],
   "source": [
    "sns.distplot(pred_df['Error'],bins=25)"
   ]
  },
  {
   "cell_type": "code",
   "execution_count": 153,
   "metadata": {},
   "outputs": [],
   "source": [
    "# We can see the normal behaviour of the error term"
   ]
  },
  {
   "cell_type": "code",
   "execution_count": 154,
   "metadata": {},
   "outputs": [],
   "source": [
    "from sklearn.metrics import mean_absolute_error,mean_squared_error"
   ]
  },
  {
   "cell_type": "code",
   "execution_count": 155,
   "metadata": {},
   "outputs": [
    {
     "data": {
      "text/plain": [
       "4.199385732623622"
      ]
     },
     "execution_count": 155,
     "metadata": {},
     "output_type": "execute_result"
    }
   ],
   "source": [
    "mean_absolute_error(pred_df['Test Y'],pred_df['Model Predictions'])"
   ]
  },
  {
   "cell_type": "code",
   "execution_count": 156,
   "metadata": {},
   "outputs": [
    {
     "data": {
      "text/plain": [
       "26.819986050736812"
      ]
     },
     "execution_count": 156,
     "metadata": {},
     "output_type": "execute_result"
    }
   ],
   "source": [
    "mean_squared_error(pred_df['Test Y'],pred_df['Model Predictions'])"
   ]
  },
  {
   "cell_type": "code",
   "execution_count": 157,
   "metadata": {},
   "outputs": [
    {
     "data": {
      "text/plain": [
       "26.81996726989746"
      ]
     },
     "execution_count": 157,
     "metadata": {},
     "output_type": "execute_result"
    }
   ],
   "source": [
    "# Essentially the same thing, difference just due to precision (MSE)\n",
    "test_score"
   ]
  },
  {
   "cell_type": "code",
   "execution_count": 158,
   "metadata": {},
   "outputs": [
    {
     "data": {
      "text/plain": [
       "5.178799790482102"
      ]
     },
     "execution_count": 158,
     "metadata": {},
     "output_type": "execute_result"
    }
   ],
   "source": [
    "#RMSE\n",
    "test_score**0.5"
   ]
  },
  {
   "cell_type": "markdown",
   "metadata": {},
   "source": [
    "# Predicting on brand new data\n",
    "\n",
    "What if we just saw a brand new gemstone from the ground? What should we price it at? This is the **exact** same procedure as predicting on a new test data!"
   ]
  },
  {
   "cell_type": "code",
   "execution_count": 163,
   "metadata": {},
   "outputs": [],
   "source": [
    "# [[Feature1, Feature2]]\n",
    "new_gem = [[998,1000]]"
   ]
  },
  {
   "cell_type": "code",
   "execution_count": 164,
   "metadata": {},
   "outputs": [
    {
     "data": {
      "text/plain": [
       "array([[0.14117652, 0.53968792]])"
      ]
     },
     "execution_count": 164,
     "metadata": {},
     "output_type": "execute_result"
    }
   ],
   "source": [
    "# Don't forget to scale!\n",
    "scaler.transform(new_gem)"
   ]
  },
  {
   "cell_type": "code",
   "execution_count": 165,
   "metadata": {},
   "outputs": [],
   "source": [
    "new_gem = scaler.transform(new_gem)"
   ]
  },
  {
   "cell_type": "code",
   "execution_count": 166,
   "metadata": {},
   "outputs": [
    {
     "data": {
      "text/plain": [
       "array([[420.70877]], dtype=float32)"
      ]
     },
     "execution_count": 166,
     "metadata": {},
     "output_type": "execute_result"
    }
   ],
   "source": [
    "model.predict(new_gem)"
   ]
  },
  {
   "cell_type": "code",
   "execution_count": 169,
   "metadata": {},
   "outputs": [],
   "source": [
    "# So the price of the new gem with the above given features is 420.708 "
   ]
  },
  {
   "cell_type": "code",
   "execution_count": null,
   "metadata": {},
   "outputs": [],
   "source": []
  }
 ],
 "metadata": {
  "kernelspec": {
   "display_name": "Python 3",
   "language": "python",
   "name": "python3"
  },
  "language_info": {
   "codemirror_mode": {
    "name": "ipython",
    "version": 3
   },
   "file_extension": ".py",
   "mimetype": "text/x-python",
   "name": "python",
   "nbconvert_exporter": "python",
   "pygments_lexer": "ipython3",
   "version": "3.7.1"
  }
 },
 "nbformat": 4,
 "nbformat_minor": 2
}
